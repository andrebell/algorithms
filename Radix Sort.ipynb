{
 "cells": [
  {
   "cell_type": "markdown",
   "metadata": {},
   "source": [
    "## Radix Sort"
   ]
  },
  {
   "cell_type": "markdown",
   "metadata": {},
   "source": [
    "Radix sort is based on sorting according to the individual digits of the numbers, starting with the most significant bit."
   ]
  },
  {
   "cell_type": "code",
   "execution_count": 8,
   "metadata": {
    "collapsed": false
   },
   "outputs": [],
   "source": [
    "def radixexchange(a_list, l, r, b):\n",
    "    if r > l and b >= 0:\n",
    "        i = l\n",
    "        j = r\n",
    "        while not j == i:\n",
    "            while (bits(a_list[i], b, 1)==0) and (i<j):\n",
    "                i += 1\n",
    "            while (bist(a_list[j], b, 1)==1) and (i<j):\n",
    "                j -= 1\n",
    "        if bits(a[r], b, 1) == 0:\n",
    "            j += 1\n",
    "        radixexchange(a_list, j-1, b-1)\n",
    "        radixexchange(a_list, r, b-1)\n",
    "    return a_list"
   ]
  },
  {
   "cell_type": "code",
   "execution_count": null,
   "metadata": {
    "collapsed": true
   },
   "outputs": [],
   "source": []
  }
 ],
 "metadata": {
  "kernelspec": {
   "display_name": "Python 3",
   "language": "python",
   "name": "python3"
  },
  "language_info": {
   "codemirror_mode": {
    "name": "ipython",
    "version": 3
   },
   "file_extension": ".py",
   "mimetype": "text/x-python",
   "name": "python",
   "nbconvert_exporter": "python",
   "pygments_lexer": "ipython3",
   "version": "3.4.3"
  }
 },
 "nbformat": 4,
 "nbformat_minor": 0
}
