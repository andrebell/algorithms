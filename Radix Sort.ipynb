{
 "cells": [
  {
   "cell_type": "markdown",
   "metadata": {},
   "source": [
    "## Radix Sort"
   ]
  },
  {
   "cell_type": "markdown",
   "metadata": {},
   "source": [
    "Radix sort is based on sorting according to the individual digits of the numbers, starting with the most significant bit."
   ]
  },
  {
   "cell_type": "code",
   "execution_count": 1,
   "metadata": {
    "collapsed": false
   },
   "outputs": [],
   "source": [
    "def radixexchange(a_list, l, r, b):\n",
    "    def testBit(int_type, offset):\n",
    "        \"\"\"testBit function from https://wiki.python.org/moin/BitManipulation\"\"\"\n",
    "        mask = 1 << offset\n",
    "        return(int_type & mask)\n",
    "    \n",
    "    if r > l and b >= 0:\n",
    "        i = l\n",
    "        j = r\n",
    "        while not j == i:\n",
    "            while testBit(a_list[i], b) == 0 and i < j:\n",
    "                i += 1\n",
    "            while testBit(a_list[j], b) > 0 and i < j:\n",
    "                j -= 1\n",
    "            a_list[i], a_list[j] = a_list[j], a_list[i]\n",
    "        if testBit(a_list[r], b) == 0:\n",
    "            j += 1\n",
    "        radixexchange(a_list, l, j-1, b-1)\n",
    "        radixexchange(a_list, j, r, b-1)\n",
    "    return a_list"
   ]
  },
  {
   "cell_type": "code",
   "execution_count": 2,
   "metadata": {
    "collapsed": false
   },
   "outputs": [
    {
     "data": {
      "text/plain": [
       "[65, 83, 79, 82, 84, 73, 78, 71, 69, 88, 65, 77, 80, 76, 69]"
      ]
     },
     "execution_count": 2,
     "metadata": {},
     "output_type": "execute_result"
    }
   ],
   "source": [
    "l = list(map(ord, list(\"ASORTINGEXAMPLE\")))\n",
    "l"
   ]
  },
  {
   "cell_type": "code",
   "execution_count": 3,
   "metadata": {
    "collapsed": false
   },
   "outputs": [
    {
     "data": {
      "text/plain": [
       "[65, 65, 69, 69, 71, 73, 76, 77, 78, 79, 80, 82, 83, 84, 88]"
      ]
     },
     "execution_count": 3,
     "metadata": {},
     "output_type": "execute_result"
    }
   ],
   "source": [
    "radixexchange(l, 0, 14, 7)\n",
    "l"
   ]
  },
  {
   "cell_type": "code",
   "execution_count": 4,
   "metadata": {
    "collapsed": false
   },
   "outputs": [
    {
     "data": {
      "text/plain": [
       "['A', 'A', 'E', 'E', 'G', 'I', 'L', 'M', 'N', 'O', 'P', 'R', 'S', 'T', 'X']"
      ]
     },
     "execution_count": 4,
     "metadata": {},
     "output_type": "execute_result"
    }
   ],
   "source": [
    "list(map(chr, l))"
   ]
  },
  {
   "cell_type": "code",
   "execution_count": 5,
   "metadata": {
    "collapsed": false
   },
   "outputs": [
    {
     "name": "stdout",
     "output_type": "stream",
     "text": [
      "20 loops, best of 10: 68.1 µs per loop\n"
     ]
    }
   ],
   "source": [
    "%timeit -n20 -r10 radixexchange(list(map(ord, list(\"ASORTINGEXAMPLE\"))), 0, 14, 7)"
   ]
  },
  {
   "cell_type": "code",
   "execution_count": null,
   "metadata": {
    "collapsed": true
   },
   "outputs": [],
   "source": []
  }
 ],
 "metadata": {
  "kernelspec": {
   "display_name": "Python 3",
   "language": "python",
   "name": "python3"
  },
  "language_info": {
   "codemirror_mode": {
    "name": "ipython",
    "version": 3
   },
   "file_extension": ".py",
   "mimetype": "text/x-python",
   "name": "python",
   "nbconvert_exporter": "python",
   "pygments_lexer": "ipython3",
   "version": "3.4.3"
  }
 },
 "nbformat": 4,
 "nbformat_minor": 0
}
