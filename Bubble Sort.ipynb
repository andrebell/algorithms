{
 "cells": [
  {
   "cell_type": "markdown",
   "metadata": {},
   "source": [
    "# Bubble Sort"
   ]
  },
  {
   "cell_type": "markdown",
   "metadata": {},
   "source": [
    "Classical bubble sort with index operation. Compare N pairs, then N-1 pairs, and so on until only the last pair is compared."
   ]
  },
  {
   "cell_type": "code",
   "execution_count": 1,
   "metadata": {
    "collapsed": false
   },
   "outputs": [],
   "source": [
    "def bubble(a_list):\n",
    "    N = len(a_list)\n",
    "    for i in reversed(range(1,N)):\n",
    "        for j in range(1,i+1):\n",
    "            if a_list[j-1] > a_list[j]:\n",
    "                a_list[j-1], a_list[j] = a_list[j], a_list[j-1]\n",
    "    return a_list"
   ]
  },
  {
   "cell_type": "code",
   "execution_count": 2,
   "metadata": {
    "collapsed": false
   },
   "outputs": [
    {
     "data": {
      "text/plain": [
       "['A', 'A', 'E', 'E', 'G', 'I', 'L', 'M', 'N', 'O', 'P', 'R', 'S', 'T', 'X']"
      ]
     },
     "execution_count": 2,
     "metadata": {},
     "output_type": "execute_result"
    }
   ],
   "source": [
    "bubble(list(\"ASORTINGEXAMPLE\"))"
   ]
  },
  {
   "cell_type": "markdown",
   "metadata": {},
   "source": [
    "Bubble sort all items, until no exchange operation is needed anymore. Requires on pass without exchanges!"
   ]
  },
  {
   "cell_type": "code",
   "execution_count": 3,
   "metadata": {
    "collapsed": true
   },
   "outputs": [],
   "source": [
    "def bubble2(a_list):\n",
    "    N = len(a_list)\n",
    "    sorted = False\n",
    "    while not sorted:\n",
    "        sorted = True\n",
    "        for i in range(1,N):\n",
    "            if a_list[i-1] > a_list[i]:\n",
    "                a_list[i-1], a_list[i] = a_list[i], a_list[i-1]\n",
    "                sorted = False\n",
    "    return a_list"
   ]
  },
  {
   "cell_type": "code",
   "execution_count": 4,
   "metadata": {
    "collapsed": false
   },
   "outputs": [
    {
     "data": {
      "text/plain": [
       "['A', 'A', 'E', 'E', 'G', 'I', 'L', 'M', 'N', 'O', 'P', 'R', 'S', 'T', 'X']"
      ]
     },
     "execution_count": 4,
     "metadata": {},
     "output_type": "execute_result"
    }
   ],
   "source": [
    "bubble2(list(\"ASORTINGEXAMPLE\"))"
   ]
  },
  {
   "cell_type": "code",
   "execution_count": 5,
   "metadata": {
    "collapsed": false
   },
   "outputs": [
    {
     "name": "stdout",
     "output_type": "stream",
     "text": [
      "20 loops, best of 10: 29.6 µs per loop\n"
     ]
    }
   ],
   "source": [
    "%timeit -n20 -r10 bubble(list(\"ASORTINGEXAMPLE\"))"
   ]
  },
  {
   "cell_type": "code",
   "execution_count": 6,
   "metadata": {
    "collapsed": false
   },
   "outputs": [
    {
     "name": "stdout",
     "output_type": "stream",
     "text": [
      "20 loops, best of 10: 36 µs per loop\n"
     ]
    }
   ],
   "source": [
    "%timeit -n20 -r10 bubble2(list(\"ASORTINGEXAMPLE\"))"
   ]
  },
  {
   "cell_type": "code",
   "execution_count": null,
   "metadata": {
    "collapsed": true
   },
   "outputs": [],
   "source": []
  }
 ],
 "metadata": {
  "kernelspec": {
   "display_name": "Python 3",
   "language": "python",
   "name": "python3"
  },
  "language_info": {
   "codemirror_mode": {
    "name": "ipython",
    "version": 3
   },
   "file_extension": ".py",
   "mimetype": "text/x-python",
   "name": "python",
   "nbconvert_exporter": "python",
   "pygments_lexer": "ipython3",
   "version": "3.4.3"
  }
 },
 "nbformat": 4,
 "nbformat_minor": 0
}
