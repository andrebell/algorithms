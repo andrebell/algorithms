{
 "cells": [
  {
   "cell_type": "markdown",
   "metadata": {},
   "source": [
    "# Quick Sort"
   ]
  },
  {
   "cell_type": "markdown",
   "metadata": {},
   "source": [
    "Quicksort is based on a partition scheme (divide and conquer). If we follow the Python convention, that the right index of a range is not part of the range, we get the following recursive implementation:"
   ]
  },
  {
   "cell_type": "code",
   "execution_count": 1,
   "metadata": {
    "collapsed": true
   },
   "outputs": [],
   "source": [
    "def quicksort(a_list, left=0, right=None):\n",
    "    if not right:\n",
    "        right = len(a_list)\n",
    "    print(a_list, left, right)\n",
    "    if right > left:\n",
    "        i = partition(a_list, left, right)\n",
    "        quicksort(a_list, left, i)\n",
    "        quicksort(a_list, i+1, right)\n",
    "    return a_list"
   ]
  },
  {
   "cell_type": "markdown",
   "metadata": {
    "collapsed": true
   },
   "source": [
    "The partition method seeks from left and right for the first element bigger or equal and the first element smaller or equal than the partition element. These are exchanged:"
   ]
  },
  {
   "cell_type": "code",
   "execution_count": 3,
   "metadata": {
    "collapsed": false
   },
   "outputs": [],
   "source": [
    "def partition(a_list, left=0, right=None):\n",
    "    N = len(a_list)\n",
    "    if not right:\n",
    "        right = N\n",
    "    # Last element is partition element\n",
    "    value = a_list[-1]\n",
    "    right -= 1\n",
    "    while left < right:\n",
    "        while a_list[left] < value:\n",
    "            left += 1\n",
    "        while a_list[right-1] > value:\n",
    "            right -= 1\n",
    "        if left < right-1:\n",
    "            a_list[left], a_list[right-1] = a_list[right-1], a_list[left]\n",
    "            left += 1\n",
    "    # Exchange partition element to bring it to final position\n",
    "    a_list[left], a_list[-1] = a_list[-1], a_list[left]\n",
    "    return left"
   ]
  },
  {
   "cell_type": "code",
   "execution_count": null,
   "metadata": {
    "collapsed": true
   },
   "outputs": [],
   "source": []
  }
 ],
 "metadata": {
  "kernelspec": {
   "display_name": "Python 3",
   "language": "python",
   "name": "python3"
  },
  "language_info": {
   "codemirror_mode": {
    "name": "ipython",
    "version": 3
   },
   "file_extension": ".py",
   "mimetype": "text/x-python",
   "name": "python",
   "nbconvert_exporter": "python",
   "pygments_lexer": "ipython3",
   "version": "3.4.3"
  }
 },
 "nbformat": 4,
 "nbformat_minor": 0
}
