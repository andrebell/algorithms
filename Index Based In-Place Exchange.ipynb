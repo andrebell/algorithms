{
 "cells": [
  {
   "cell_type": "markdown",
   "metadata": {},
   "source": [
    "# Index Based In-Place Exchange"
   ]
  },
  {
   "cell_type": "markdown",
   "metadata": {},
   "source": [
    "In the [Index Based Insertion Sort](Index Based Insertion Sort.ipynb) example we created a copy of the data into a sorted new list. This however requires the same amount of memory again. Therefore, the data may be sorted in-place, i.e. within the list:"
   ]
  },
  {
   "cell_type": "code",
   "execution_count": 1,
   "metadata": {
    "collapsed": true
   },
   "outputs": [],
   "source": [
    "def insertionsort(a_list):\n",
    "    N = len(a_list)\n",
    "    index = list(range(N))\n",
    "    for i in range(1,N):\n",
    "        elem_idx = index[i]\n",
    "        j = i\n",
    "        while a_list[index[j-1]] > a_list[elem_idx]:\n",
    "            index[j] = index[j-1]\n",
    "            j -= 1\n",
    "        index[j] = elem_idx\n",
    "    return a_list, index"
   ]
  },
  {
   "cell_type": "code",
   "execution_count": 2,
   "metadata": {
    "collapsed": false
   },
   "outputs": [
    {
     "data": {
      "text/plain": [
       "(['A', 'S', 'O', 'R', 'T', 'I', 'N', 'G', 'E', 'X', 'A', 'M', 'P', 'L', 'E'],\n",
       " [0, 10, 8, 14, 7, 5, 13, 11, 6, 2, 12, 3, 1, 4, 9])"
      ]
     },
     "execution_count": 2,
     "metadata": {},
     "output_type": "execute_result"
    }
   ],
   "source": [
    "a_list, index = insertionsort(list(\"ASORTINGEXAMPLE\"))\n",
    "a_list, index"
   ]
  },
  {
   "cell_type": "code",
   "execution_count": 3,
   "metadata": {
    "collapsed": true
   },
   "outputs": [],
   "source": [
    "def inplace_exchange(a_list, index):\n",
    "    N = len(a_list)\n",
    "    for i in range(N):\n",
    "        if not index[i] == i:\n",
    "            current_idx = i\n",
    "            temp = a_list[current_idx]\n",
    "\n",
    "            next_idx = index[current_idx]\n",
    "            while not next_idx == i:\n",
    "                a_list[current_idx] = a_list[next_idx]\n",
    "                index[current_idx] = current_idx\n",
    "                current_idx, next_idx = next_idx, index[next_idx]\n",
    "            a_list[current_idx] = temp\n",
    "            index[current_idx] = current_idx\n",
    "    return a_list, index"
   ]
  },
  {
   "cell_type": "code",
   "execution_count": 4,
   "metadata": {
    "collapsed": false
   },
   "outputs": [
    {
     "data": {
      "text/plain": [
       "(['A', 'A', 'E', 'E', 'G', 'I', 'L', 'M', 'N', 'O', 'P', 'R', 'S', 'T', 'X'],\n",
       " [0, 1, 2, 3, 4, 5, 6, 7, 8, 9, 10, 11, 12, 13, 14])"
      ]
     },
     "execution_count": 4,
     "metadata": {},
     "output_type": "execute_result"
    }
   ],
   "source": [
    "inplace_exchange(a_list, index)"
   ]
  },
  {
   "cell_type": "code",
   "execution_count": 5,
   "metadata": {
    "collapsed": false
   },
   "outputs": [
    {
     "name": "stdout",
     "output_type": "stream",
     "text": [
      "20 loops, best of 10: 24.7 µs per loop\n"
     ]
    }
   ],
   "source": [
    "%timeit -n20 -r10 inplace_exchange(*insertionsort(list(\"ASORTINGEXAMPLE\")))"
   ]
  },
  {
   "cell_type": "code",
   "execution_count": null,
   "metadata": {
    "collapsed": true
   },
   "outputs": [],
   "source": []
  }
 ],
 "metadata": {
  "kernelspec": {
   "display_name": "Python 3",
   "language": "python",
   "name": "python3"
  },
  "language_info": {
   "codemirror_mode": {
    "name": "ipython",
    "version": 3
   },
   "file_extension": ".py",
   "mimetype": "text/x-python",
   "name": "python",
   "nbconvert_exporter": "python",
   "pygments_lexer": "ipython3",
   "version": "3.4.3"
  }
 },
 "nbformat": 4,
 "nbformat_minor": 0
}
