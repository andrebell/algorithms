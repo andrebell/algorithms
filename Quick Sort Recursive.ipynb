{
 "cells": [
  {
   "cell_type": "markdown",
   "metadata": {},
   "source": [
    "# Quick Sort"
   ]
  },
  {
   "cell_type": "markdown",
   "metadata": {},
   "source": [
    "Quicksort is based on a partition scheme (divide and conquer). Here we follow the convention, that the right index is part of the range. We get the following recursive implementation:"
   ]
  },
  {
   "cell_type": "code",
   "execution_count": 1,
   "metadata": {
    "collapsed": true
   },
   "outputs": [],
   "source": [
    "def quicksort(a_list, left=0, right=None):\n",
    "    if right is None:\n",
    "        right = len(a_list)-1\n",
    "    if right > left:\n",
    "        i = partition(a_list, left, right)\n",
    "        quicksort(a_list, left, i-1)\n",
    "        quicksort(a_list, i+1, right)\n",
    "    return a_list"
   ]
  },
  {
   "cell_type": "markdown",
   "metadata": {
    "collapsed": true
   },
   "source": [
    "The partition method seeks from left and right for the first element bigger or equal and the first element smaller or equal than the partition element. These are exchanged:"
   ]
  },
  {
   "cell_type": "code",
   "execution_count": 2,
   "metadata": {
    "collapsed": false
   },
   "outputs": [],
   "source": [
    "def partition(a_list, left, right):\n",
    "    # Check special conditions to abort recursion\n",
    "    if left > right:\n",
    "        return left\n",
    "    if left == right:\n",
    "        return left\n",
    "    if left == right-1:\n",
    "        if a_list[right] < a_list[left]:\n",
    "            a_list[left], a_list[right] = a_list[right], a_list[left]\n",
    "        return right\n",
    "    \n",
    "    # Last element is partition element\n",
    "    value = a_list[right]\n",
    "    l, r = left, right-1\n",
    "    while l < r:\n",
    "        while a_list[l] < value:\n",
    "            l += 1\n",
    "        while a_list[r] > value:\n",
    "            r -= 1\n",
    "        if l < r:\n",
    "            a_list[l], a_list[r] = a_list[r], a_list[l]\n",
    "            l += 1\n",
    "    # Exchange partition element to bring it to final position\n",
    "    a_list[l], a_list[right] = a_list[right], a_list[l]\n",
    "    return l"
   ]
  },
  {
   "cell_type": "code",
   "execution_count": 3,
   "metadata": {
    "collapsed": true
   },
   "outputs": [],
   "source": [
    "l = list(\"ASORTINGEXAMPLE\")"
   ]
  },
  {
   "cell_type": "code",
   "execution_count": 4,
   "metadata": {
    "collapsed": false
   },
   "outputs": [
    {
     "data": {
      "text/plain": [
       "['A', 'A', 'E', 'E', 'G', 'I', 'L', 'M', 'N', 'O', 'P', 'R', 'S', 'T', 'X']"
      ]
     },
     "execution_count": 4,
     "metadata": {},
     "output_type": "execute_result"
    }
   ],
   "source": [
    "quicksort(l)"
   ]
  },
  {
   "cell_type": "code",
   "execution_count": 5,
   "metadata": {
    "collapsed": false
   },
   "outputs": [
    {
     "name": "stdout",
     "output_type": "stream",
     "text": [
      "20 loops, best of 10: 16.4 µs per loop\n"
     ]
    }
   ],
   "source": [
    "%timeit -n20 -r10 quicksort(list(\"ASORTINGEXAMPLE\"))"
   ]
  },
  {
   "cell_type": "code",
   "execution_count": null,
   "metadata": {
    "collapsed": true
   },
   "outputs": [],
   "source": []
  }
 ],
 "metadata": {
  "kernelspec": {
   "display_name": "Python 3",
   "language": "python",
   "name": "python3"
  },
  "language_info": {
   "codemirror_mode": {
    "name": "ipython",
    "version": 3
   },
   "file_extension": ".py",
   "mimetype": "text/x-python",
   "name": "python",
   "nbconvert_exporter": "python",
   "pygments_lexer": "ipython3",
   "version": "3.4.3"
  }
 },
 "nbformat": 4,
 "nbformat_minor": 0
}
