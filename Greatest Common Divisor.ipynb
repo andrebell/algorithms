{
 "cells": [
  {
   "cell_type": "markdown",
   "metadata": {},
   "source": [
    "# The Euclidean Algorithm"
   ]
  },
  {
   "cell_type": "markdown",
   "metadata": {},
   "source": [
    "The Euclidean Algorithm is an algorithm to calculate the greatest common divisor of two integer numbers and was described by [Euclid](https://en.wikipedia.org/wiki/Euclid). Let two numbers $a \\in N$ and $b \\in N$ do have a common divisor $d \\in N$, which divides both numbers without a remainder, then $a$ and $b$ kann be written as\n",
    "\n",
    "$$a = k_a\\cdot d$$\n",
    "$$b = k_b\\cdot d$$"
   ]
  },
  {
   "cell_type": "markdown",
   "metadata": {},
   "source": [
    "## Implementation"
   ]
  },
  {
   "cell_type": "code",
   "execution_count": null,
   "metadata": {
    "collapsed": true
   },
   "outputs": [],
   "source": [
    "def gcd_simple(a, b):\n",
    "    while b > 1:\n",
    "        a, b = b, a % b\n",
    "    return a"
   ]
  }
 ],
 "metadata": {
  "kernelspec": {
   "display_name": "Python 3",
   "language": "python",
   "name": "python3"
  },
  "language_info": {
   "codemirror_mode": {
    "name": "ipython",
    "version": 3
   },
   "file_extension": ".py",
   "mimetype": "text/x-python",
   "name": "python",
   "nbconvert_exporter": "python",
   "pygments_lexer": "ipython3",
   "version": "3.4.3"
  }
 },
 "nbformat": 4,
 "nbformat_minor": 0
}
